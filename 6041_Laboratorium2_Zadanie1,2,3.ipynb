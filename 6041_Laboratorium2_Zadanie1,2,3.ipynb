{
 "cells": [
  {
   "cell_type": "code",
   "execution_count": null,
   "metadata": {},
   "outputs": [],
   "source": [
    "# ZADANIE 1"
   ]
  },
  {
   "cell_type": "code",
   "execution_count": null,
   "metadata": {},
   "outputs": [],
   "source": [
    "# Zadanie 1: sprawdź poniżej inne elementy wczytanego zbioru danych, w szczególności opis.\n",
    "# Opisz w max 3 zdaniach swoimi słowami co zawiera zbiór danych\n",
    "\n",
    "from sklearn import datasets\n",
    "import matplotlib.pyplot as plt\n",
    "import pandas as pd\n",
    "import numpy as np\n",
    "import seaborn as sns\n",
    "from sklearn.neighbors import KNeighborsClassifier\n",
    "\n",
    "iris = datasets.load_iris()\n",
    "print('Elementy wczytanego zbioru - opis: ', iris['DESCR'])\n",
    "\n",
    "# Zbiór danych zawiera charakterystykę 3 klas irysów,\n",
    "# łącznie 150 instancji (50 w każdej z trzech klas).\n",
    "# Zawiera trzy klasy (trzy gatunki kwiatów) z 50 obserwacjami na klasę.\n",
    "# Każda próba zawiera cztery cechy: \n",
    "# długość i szerokość płatków dwóch gatunków irysów w centymetrach. \n",
    "# Zbiór danych przedstawia klasyfikację na podstawie tych cech.\n",
    "# W opisie znajdziemy również bibliografię."
   ]
  },
  {
   "cell_type": "code",
   "execution_count": null,
   "metadata": {},
   "outputs": [],
   "source": [
    "# ZADANIE 2"
   ]
  },
  {
   "cell_type": "code",
   "execution_count": null,
   "metadata": {},
   "outputs": [],
   "source": [
    "# Zadanie 2:\n",
    "# Stwórz listę kilku wybranych przez siebie wartości dla parametru n_neighbors\n",
    "# W pętli 'for' użyj kolejnych wartości parametru do stworzenia klasyfikatora\n",
    "# Następnie naucz go na danych uczących\n",
    "# Zapisz wynik scoringu na danych testowych do osobnej listy\n",
    "# Wyświetl wykres zależności między liczbą sąsiadów a dokładnością.\n",
    "\n",
    "from sklearn.neighbors import KNeighborsClassifier\n",
    "from sklearn.model_selection import train_test_split\n",
    "\n",
    "# Podział zbioru na cechy oraz etykiety\n",
    "X = iris.data\n",
    "y = iris.target\n",
    "\n",
    "# Podział zbioru na zbiór uczący i zbiór testowy\n",
    "X_train, X_test, y_train, y_test = train_test_split(X, y, test_size = 0.8)\n",
    "\n",
    "liczba_sasiadow = [1, 2, 3, 4, 5, 6, 7, 8, 9, 10]\n",
    "dokladnosci = []\n",
    "\n",
    "# Tworzenie klasyfikatora k-NN\n",
    "for n_neighb in liczba_sasiadow:\n",
    "    knn = KNeighborsClassifier(n_neighb)\n",
    "    # Uczenie klasyfikator na zbiorze uczącym\n",
    "    knn.fit(X_train, y_train)\n",
    "    dokladnosc = knn.score(X_test, y_test)\n",
    "    dokladnosci.append(dokladnosc)\n",
    "\n",
    "# Wyświetlenie wykresu zależności między liczbą sąsiadów a dokładnością\n",
    "plt.plot(liczba_sasiadow, dokladnosci)\n",
    "plt.title('Wykres zależnosci między liczbą sąsiadów a dokładnością')\n",
    "plt.xlabel('Liczba sąsiadów')\n",
    "plt.ylabel('Dokładności scoringu')"
   ]
  },
  {
   "cell_type": "code",
   "execution_count": null,
   "metadata": {},
   "outputs": [],
   "source": [
    "# ZADANIE 3"
   ]
  },
  {
   "cell_type": "code",
   "execution_count": null,
   "metadata": {},
   "outputs": [],
   "source": [
    "# Zadanie 3:\n",
    "# wczytaj dane o winach za pomocą funkcji poniżej\n",
    "# Zbadaj zbiór danych. Stwórz wykresy obrazujące ten zbiór danych.\n",
    "# Podziel zbiór danych na uczący i testowy.\n",
    "# Wytrenuj klasyfikator kNN\n",
    "# Dokonaj predykcji na zbiorze testowym\n",
    "# Wypisz raport z uczenia: confusion_matrix oraz classification_report\n",
    "\n",
    "from sklearn.datasets import load_wine\n",
    "wines = datasets.load_wine()\n",
    "\n",
    "# Badanie zbioru danych\n",
    "print('Elementy zbioru danych o winach: ', list(wines.keys()))\n",
    "print('Cechy win w zbiorze danych: ', wines['feature_names'])\n",
    "\n",
    "# Stworzenie wykresów obrazujących ten zbiór danych.\n",
    "# Wykresy będą tworzone przy pomocy pakietu seaborn\n",
    "import seaborn as sns\n",
    "\n",
    "# Tworzenie konwersji na obiekt pandas.DataFrame\n",
    "wines_df = pd.DataFrame(wines['data'], columns=wines['feature_names'])\n",
    "\n",
    "# Tworzenie funkcji, która zamieni wartości 0, 1, 2 na pełny opis tekstowy dla gatunku\n",
    "targets = map(lambda x: wines['target_names'][x], wines['target'] )\n",
    "\n",
    "# Doklejanie informacji o gatunku do reszty dataframe\n",
    "wines_df['species'] = np.array(list(targets))\n",
    "\n",
    "# Wyświetlenie wykresów\n",
    "sns.pairplot(wines_df, hue='species')\n",
    "plt.show()\n",
    "\n",
    "from sklearn.model_selection import train_test_split\n",
    "from sklearn.metrics import classification_report, confusion_matrix\n",
    "\n",
    "# Podział zbioru na cechy oraz etykiety\n",
    "X = wines.data\n",
    "y = wines.target\n",
    "\n",
    "# Podział zbioru na zbiór uczący i zbiór testowy\n",
    "X_train, X_test, y_train, y_test = train_test_split(X, y, test_size = 0.8)\n",
    "# Tworzenie klasyfikatora k-NN przy użyciu parametru 5 sąsiadów\n",
    "knn = KNeighborsClassifier(n_neighbors = 5)\n",
    "# Trenowanie klasyfikatora\n",
    "knn.fit(X_train, y_train)\n",
    "# Wyniki predykcji\n",
    "y_pred = knn.predict(X_test)\n",
    "# Wyniki klasyfikacji\n",
    "print(\"Wynik klasyfikacji: \", y_pred)\n",
    "# Dokładność klasyfikatora\n",
    "print(\"Dokładność klasyfikatora: \", knn.score(X_test, y_test))\n",
    "\n",
    "# Wypisanie raport z uczenia: confusion_matrix oraz classification_report\n",
    "print(\"Classification report:\", classification_report(y_test, y_pred))\n",
    "print(\"confusion matrix: \", confusion_matrix(y_test, y_pred))"
   ]
  }
 ],
 "metadata": {
  "kernelspec": {
   "display_name": "Python 3",
   "language": "python",
   "name": "python3"
  },
  "language_info": {
   "codemirror_mode": {
    "name": "ipython",
    "version": 3
   },
   "file_extension": ".py",
   "mimetype": "text/x-python",
   "name": "python",
   "nbconvert_exporter": "python",
   "pygments_lexer": "ipython3",
   "version": "3.7.4"
  }
 },
 "nbformat": 4,
 "nbformat_minor": 2
}
