{
 "cells": [
  {
   "cell_type": "code",
   "execution_count": null,
   "metadata": {},
   "outputs": [],
   "source": [
    "#ZADANIE 1"
   ]
  },
  {
   "cell_type": "code",
   "execution_count": null,
   "metadata": {},
   "outputs": [],
   "source": [
    "# 1. Napisz funkcję do wczytywania waluty nbp z zadanego okresu (wszystko przekazywane jako parametr)\n",
    "#    dowolny ze sposobów (plik csv, read_json, dowolne inne)\n",
    "\n",
    "import pandas as pd\n",
    "import requests\n",
    "\n",
    "def pobieranie_danych(waluta, data_poczatek, data_koniec):\n",
    "    request_url = 'http://api.nbp.pl/api/exchangerates/rates/A/' + waluta + '/' + data_poczatek + '/' + data_koniec + '/'\n",
    "    currency_req = requests.get(request_url)\n",
    "    currency_data = currency_req.json()\n",
    "    kursy_walut = pd.DataFrame.from_dict(currency_data['rates'])\n",
    "    return kursy_walut"
   ]
  },
  {
   "cell_type": "code",
   "execution_count": null,
   "metadata": {},
   "outputs": [],
   "source": [
    "# 2. Używając stworzonej funkcji wczytaj dane dwóch wybranych przez siebie kursów\n",
    "\n",
    "print(\"Waluta JEN JAPOŃSKI:\")\n",
    "print(pobieranie_danych('JPY', '2019-09-01', '2019-09-30')) \n",
    "\n",
    "print(\"Waluta EURO:\")\n",
    "print(pobieranie_danych('EUR', '2019-09-01', '2019-09-30')) "
   ]
  },
  {
   "cell_type": "code",
   "execution_count": null,
   "metadata": {},
   "outputs": [],
   "source": [
    "# 3. Zbadaj wczytane dane za pomocą wybranych poleceń, oczyść jeżeli to konieczne i ustaw indeksy na datę.\n",
    "#    Plus za konwersję do typu data/czas\n",
    "\n",
    "print(\"Waluta JEN JAPOŃSKI:\")\n",
    "JPY = pobieranie_danych('JPY', '2019-09-01', '2019-09-30')\n",
    "\n",
    "# Wyświetlenie pierwszych 10 wierszy:\n",
    "print(\"Pierwsze 10 wierszy:\")\n",
    "print(JPY.head(10))\n",
    "\n",
    "# Sprawdzenie całkowitej ilości kolumn i wierszy\n",
    "print(\"Całkowita ilość wierszy i kolumn:\") \n",
    "print(JPY.shape)\n",
    "\n",
    "# Sprawdzenie typów danych w kolumnach\n",
    "print(\"Typy danych w kolumnach:\") \n",
    "print(JPY.dtypes)\n",
    "\n",
    "# Zmiana typu danych kolumny 'effectiveDate' z object na datatime\n",
    "JPY['effectiveDate'] = pd.to_datetime(JPY['effectiveDate']) \n",
    "print(\"Typy danych w kolumnach po zmianie typu danych kolumny 'effectiveDate' z object na datatime:\")\n",
    "print(JPY.dtypes)\n",
    "\n",
    "# Zmiana indeksu na 'effectiveDate' wraz z usunięciem kolumny 'no'\n",
    "JPY = JPY.set_index('effectiveDate').drop(columns='no')\n",
    "print(\"Pierwsze 10 wierszy po zmianie indeksu na 'effectiveDate' wraz z usunięciem kolumny 'no'\")\n",
    "print(JPY.head(10))\n",
    "\n",
    "print(\"Waluta EURO:\")\n",
    "EUR = pobieranie_danych('EUR', '2019-09-01', '2019-09-30')\n",
    "\n",
    "# Wyświetlenie pierwszych 10 wierszy:\n",
    "print(\"Pierwsze 10 wierszy:\")\n",
    "print(EUR.head(10))\n",
    "\n",
    "# Sprawdzenie całkowitej ilości kolumn i wierszy\n",
    "print(\"Całkowita ilość wierszy i kolumn:\") \n",
    "print(EUR.shape)\n",
    "\n",
    "# Sprawdzenie typów danych w kolumnach\n",
    "print(\"Typy danych w kolumnach:\") \n",
    "print(EUR.dtypes)\n",
    "\n",
    "# Zmiana typu danych kolumny 'effectiveDate' z object na datatime\n",
    "EUR['effectiveDate'] = pd.to_datetime(EUR['effectiveDate']) \n",
    "print(\"Typy danych w kolumnach po zmianie typu danych kolumny 'effectiveDate' z object na datatime:\")\n",
    "print(EUR.dtypes)\n",
    "\n",
    "# Zmiana indeksu na 'effectiveDate' wraz z usunięciem kolumny 'no'\n",
    "EUR = EUR.set_index('effectiveDate').drop(columns='no')\n",
    "print(\"Pierwsze 10 wierszy po zmianie indeksu na 'effectiveDate' wraz z usunięciem kolumny 'no'\")\n",
    "print(EUR.head(10))"
   ]
  },
  {
   "cell_type": "code",
   "execution_count": null,
   "metadata": {},
   "outputs": [],
   "source": [
    "# 4. Użyj funkcji corrcoef z pakietu numpy żeby obliczyć wzajemną korelację wybranych kursów\n",
    "\n",
    "from numpy import corrcoef, array\n",
    "\n",
    "JPY = pobieranie_danych('JPY', '2019-09-01', '2019-09-30')\n",
    "EUR = pobieranie_danych('EUR', '2019-09-01', '2019-09-30')\n",
    "\n",
    "#Utworzenie listy wartości waluty JEN JAPOŃSKI \n",
    "wartosci_JPY = []\n",
    "for x in JPY['mid']:\n",
    "    wartosci_JPY.append(x)\n",
    "    \n",
    "#Utworzenie listy wartości waluty EURO \n",
    "wartosci_EUR = []\n",
    "for x in EUR['mid']:\n",
    "    wartosci_EUR.append(x)\n",
    "\n",
    "# Obliczenie wzajemnej korelacji przy pomocy funkcji corrcoef\n",
    "corrcoef(array(wartosci_EUR), array(wartosci_JPY))"
   ]
  },
  {
   "cell_type": "code",
   "execution_count": null,
   "metadata": {},
   "outputs": [],
   "source": [
    "# 5. Zweryfikuj związek z punktu wyżej rysując wykresy obydwu wybranych przez siebie walut\n",
    "#    Plus za wykorzystanie funkcji plt.subplot()\n",
    "\n",
    "import matplotlib.pyplot as plt\n",
    "\n",
    "wykres_JPY = pobieranie_danych('JPY', '2019-09-01', '2019-09-30').set_index(['effectiveDate'])['mid']\n",
    "wykres_EUR = pobieranie_danych('EUR', '2019-09-01', '2019-09-30').set_index(['effectiveDate'])['mid']\n",
    "\n",
    "# Ustawienie 2 wykresów obok siebie oraz ustalenie ich wielkości.\n",
    "fig, (ax1, ax2) = plt.subplots(1, 2, figsize=(20,5))\n",
    "\n",
    "# Rotacja opisu osi z datami pod kątem 90 stopni.\n",
    "fig.autofmt_xdate(rotation=90)\n",
    "\n",
    "ax1.plot(wykres_JPY)\n",
    "ax1.set_title(\"JEN JAPOŃSKI\")\n",
    "\n",
    "ax2.plot(wykres_EUR)\n",
    "ax2.set_title(\"EURO\")\n",
    "\n",
    "plt.show()"
   ]
  }
 ],
 "metadata": {
  "kernelspec": {
   "display_name": "Python 3",
   "language": "python",
   "name": "python3"
  },
  "language_info": {
   "codemirror_mode": {
    "name": "ipython",
    "version": 3
   },
   "file_extension": ".py",
   "mimetype": "text/x-python",
   "name": "python",
   "nbconvert_exporter": "python",
   "pygments_lexer": "ipython3",
   "version": "3.7.4"
  }
 },
 "nbformat": 4,
 "nbformat_minor": 2
}
